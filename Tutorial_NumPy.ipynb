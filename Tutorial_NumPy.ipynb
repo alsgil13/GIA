{
  "nbformat": 4,
  "nbformat_minor": 0,
  "metadata": {
    "kernelspec": {
      "display_name": "Python 3",
      "language": "python",
      "name": "python3"
    },
    "language_info": {
      "codemirror_mode": {
        "name": "ipython",
        "version": 3
      },
      "file_extension": ".py",
      "mimetype": "text/x-python",
      "name": "python",
      "nbconvert_exporter": "python",
      "pygments_lexer": "ipython3",
      "version": "3.6.3"
    },
    "colab": {
      "name": "Tutorial NumPy.ipynb",
      "provenance": []
    }
  },
  "cells": [
    {
      "cell_type": "markdown",
      "metadata": {
        "id": "yGqmm8E86fNK",
        "colab_type": "text"
      },
      "source": [
        "<h1>Tutorial básico sobre a biblioteca NumPy</h1>"
      ]
    },
    {
      "cell_type": "markdown",
      "metadata": {
        "id": "nW7F-NgF6fNM",
        "colab_type": "text"
      },
      "source": [
        "<p><i>\"NumPy é um pacote para a linguagem Python que suporta arrays e matrizes multidimensionais, possuindo uma larga coleção de funções matemáticas para trabalhar com estas estruturas\"</i></p>"
      ]
    },
    {
      "cell_type": "markdown",
      "metadata": {
        "id": "xclvwK746fNN",
        "colab_type": "text"
      },
      "source": [
        "<h2>Instalação do NumPy</h2>"
      ]
    },
    {
      "cell_type": "markdown",
      "metadata": {
        "id": "tO4F2XsZ6fNN",
        "colab_type": "text"
      },
      "source": [
        "pip install numpy"
      ]
    },
    {
      "cell_type": "markdown",
      "metadata": {
        "id": "ssLVQlRV6fNO",
        "colab_type": "text"
      },
      "source": [
        "<h2>Importanto a Biblioteca</h2>"
      ]
    },
    {
      "cell_type": "code",
      "metadata": {
        "id": "IBdkmr3T6fNP",
        "colab_type": "code",
        "colab": {}
      },
      "source": [
        "import numpy as np\n"
      ],
      "execution_count": 0,
      "outputs": []
    },
    {
      "cell_type": "markdown",
      "metadata": {
        "id": "3nLV_57a6fNS",
        "colab_type": "text"
      },
      "source": [
        "<h2>Arrays de uma dimensão (Vetores)</h2>\n",
        "<h3> Criando Vetores</h3>"
      ]
    },
    {
      "cell_type": "code",
      "metadata": {
        "id": "P1K3fDNE6fNT",
        "colab_type": "code",
        "outputId": "2baeba96-7540-4b12-9cd6-d2965e4d64e7",
        "colab": {
          "base_uri": "https://localhost:8080/",
          "height": 34
        }
      },
      "source": [
        "#Criando um vetor simples\n",
        "my_array = np.array([1, 2, 3, 4, 5])\n",
        "#imprimindo o vetor criado\n",
        "print(my_array)"
      ],
      "execution_count": 0,
      "outputs": [
        {
          "output_type": "stream",
          "text": [
            "[1 2 3 4 5]\n"
          ],
          "name": "stdout"
        }
      ]
    },
    {
      "cell_type": "code",
      "metadata": {
        "id": "SY6xLUKN6fNX",
        "colab_type": "code",
        "outputId": "6f88b0a0-8505-4b94-8851-842336c6e6fb",
        "colab": {
          "base_uri": "https://localhost:8080/",
          "height": 34
        }
      },
      "source": [
        "#Verificando o formato do vetor\n",
        "print(my_array.shape)\n",
        "#A função shape retorna um caoleção de inteiros que representa quantes elementos tem em cada dimensão do vetor"
      ],
      "execution_count": 0,
      "outputs": [
        {
          "output_type": "stream",
          "text": [
            "(5,)\n"
          ],
          "name": "stdout"
        }
      ]
    },
    {
      "cell_type": "code",
      "metadata": {
        "id": "F3Jidjnn6fNc",
        "colab_type": "code",
        "outputId": "9a818827-9eec-42c0-ab16-dcaf19b8dfc3",
        "colab": {
          "base_uri": "https://localhost:8080/",
          "height": 34
        }
      },
      "source": [
        "#Acessando um endereço específico do vetor\n",
        "print(my_array[2])"
      ],
      "execution_count": 0,
      "outputs": [
        {
          "output_type": "stream",
          "text": [
            "3\n"
          ],
          "name": "stdout"
        }
      ]
    },
    {
      "cell_type": "code",
      "metadata": {
        "id": "_aKNPRLC6fNf",
        "colab_type": "code",
        "colab": {}
      },
      "source": [
        ""
      ],
      "execution_count": 0,
      "outputs": []
    },
    {
      "cell_type": "code",
      "metadata": {
        "id": "ydIyRqoF6fNh",
        "colab_type": "code",
        "outputId": "a653ff66-e6cd-41c7-a73c-b48118904c00",
        "colab": {
          "base_uri": "https://localhost:8080/",
          "height": 68
        }
      },
      "source": [
        "#Acessando partes contíguas específicas do vetor:\n",
        "#Todo o vetor\n",
        "print(my_array[:])\n",
        "#Da posição 2 em diante\n",
        "print(my_array[2:])\n",
        "#Da início até a posição 2 (a posição 2 não é incluída)\n",
        "print(my_array[:2])"
      ],
      "execution_count": 0,
      "outputs": [
        {
          "output_type": "stream",
          "text": [
            "[1 2 3 4 5]\n",
            "[3 4 5]\n",
            "[1 2]\n"
          ],
          "name": "stdout"
        }
      ]
    },
    {
      "cell_type": "code",
      "metadata": {
        "id": "sR2jGIQe6fNk",
        "colab_type": "code",
        "outputId": "3d0e479b-a6e2-4fbf-fc14-355883c138ca",
        "colab": {
          "base_uri": "https://localhost:8080/",
          "height": 34
        }
      },
      "source": [
        "#redefinindo o valor de um endereço do vetor\n",
        "my_array[0] = -1\n",
        "print(my_array)"
      ],
      "execution_count": 0,
      "outputs": [
        {
          "output_type": "stream",
          "text": [
            "[-1  2  3  4  5]\n"
          ],
          "name": "stdout"
        }
      ]
    },
    {
      "cell_type": "code",
      "metadata": {
        "id": "EEnFfoQU6fNm",
        "colab_type": "code",
        "outputId": "87cb770b-821e-4b84-df68-42ed3e973771",
        "colab": {
          "base_uri": "https://localhost:8080/",
          "height": 34
        }
      },
      "source": [
        "#Criando um vetor iniciado no 0 até o elemento definido\n",
        "a = np.arange(9)\n",
        "print(a)"
      ],
      "execution_count": 0,
      "outputs": [
        {
          "output_type": "stream",
          "text": [
            "[0 1 2 3 4 5 6 7 8]\n"
          ],
          "name": "stdout"
        }
      ]
    },
    {
      "cell_type": "code",
      "metadata": {
        "id": "slvoPF7G6fNp",
        "colab_type": "code",
        "outputId": "0cc0b4e4-72f1-4b65-d786-c9d7a45a9aef",
        "colab": {
          "base_uri": "https://localhost:8080/",
          "height": 68
        }
      },
      "source": [
        "#redimensionando o vetor\n",
        "a = a.reshape((3, 3))\n",
        "print(a)"
      ],
      "execution_count": 0,
      "outputs": [
        {
          "output_type": "stream",
          "text": [
            "[[0 1 2]\n",
            " [3 4 5]\n",
            " [6 7 8]]\n"
          ],
          "name": "stdout"
        }
      ]
    },
    {
      "cell_type": "code",
      "metadata": {
        "id": "6C1foIqy6fNs",
        "colab_type": "code",
        "outputId": "99a2776e-b034-48eb-f1a8-f05fb8419651",
        "colab": {
          "base_uri": "https://localhost:8080/",
          "height": 34
        }
      },
      "source": [
        "#redimensionando novamente o vetor\n",
        "a = a.reshape((9))\n",
        "print(a)"
      ],
      "execution_count": 0,
      "outputs": [
        {
          "output_type": "stream",
          "text": [
            "[0 1 2 3 4 5 6 7 8]\n"
          ],
          "name": "stdout"
        }
      ]
    },
    {
      "cell_type": "code",
      "metadata": {
        "id": "H2ZzkR8y6fNu",
        "colab_type": "code",
        "outputId": "f3336211-f126-4880-f1c4-0870c9ff78dd",
        "colab": {
          "base_uri": "https://localhost:8080/",
          "height": 68
        }
      },
      "source": [
        "#Criando Array vazia\n",
        "x = np.empty([3,3], dtype = int)\n",
        "print(x)"
      ],
      "execution_count": 0,
      "outputs": [
        {
          "output_type": "stream",
          "text": [
            "[[54158000 39056784 39061104]\n",
            " [39053184 39062064 39061824]\n",
            " [39060624        0        0]]\n"
          ],
          "name": "stdout"
        }
      ]
    },
    {
      "cell_type": "code",
      "metadata": {
        "id": "mNeviZaX6fNx",
        "colab_type": "code",
        "outputId": "8ffb2414-3734-49de-846a-064b6e59c46c",
        "colab": {
          "base_uri": "https://localhost:8080/",
          "height": 34
        }
      },
      "source": [
        "#Criando um vetor só de zeros\n",
        "my_new_array = np.zeros((5))\n",
        "print(my_new_array)"
      ],
      "execution_count": 0,
      "outputs": [
        {
          "output_type": "stream",
          "text": [
            "[0. 0. 0. 0. 0.]\n"
          ],
          "name": "stdout"
        }
      ]
    },
    {
      "cell_type": "code",
      "metadata": {
        "id": "ZchL2UjL6fNz",
        "colab_type": "code",
        "outputId": "e6f4cfe6-0f4d-46b2-e891-f16522cbd575",
        "colab": {
          "base_uri": "https://localhost:8080/",
          "height": 34
        }
      },
      "source": [
        "#Criando um vetor só de um\n",
        "my_new_array = np.ones((5))\n",
        "print(my_new_array)"
      ],
      "execution_count": 0,
      "outputs": [
        {
          "output_type": "stream",
          "text": [
            "[1. 1. 1. 1. 1.]\n"
          ],
          "name": "stdout"
        }
      ]
    },
    {
      "cell_type": "code",
      "metadata": {
        "id": "UZLK4XY86fN3",
        "colab_type": "code",
        "outputId": "9d0e5fc2-c9f5-4dd0-ad52-e83169940717",
        "colab": {
          "base_uri": "https://localhost:8080/",
          "height": 34
        }
      },
      "source": [
        "#Criando um vetor de numeros aleatórios\n",
        "my_random_array = np.random.random((5))\n",
        "print(my_random_array)"
      ],
      "execution_count": 0,
      "outputs": [
        {
          "output_type": "stream",
          "text": [
            "[0.73253036 0.54046906 0.70680278 0.81262976 0.60531094]\n"
          ],
          "name": "stdout"
        }
      ]
    },
    {
      "cell_type": "code",
      "metadata": {
        "id": "MCfvTQx96fN5",
        "colab_type": "code",
        "outputId": "1ae2bb8d-111e-4f61-e94a-ea73abb7fe07",
        "colab": {
          "base_uri": "https://localhost:8080/",
          "height": 34
        }
      },
      "source": [
        "#Arrai aleatório de 0 e 1\n",
        "a = np.floor(10*np.random.random((10))%2)\n",
        "print(a)"
      ],
      "execution_count": 0,
      "outputs": [
        {
          "output_type": "stream",
          "text": [
            "[1. 1. 0. 1. 1. 0. 1. 0. 0. 0.]\n"
          ],
          "name": "stdout"
        }
      ]
    },
    {
      "cell_type": "markdown",
      "metadata": {
        "id": "QoiGT5mf6fN-",
        "colab_type": "text"
      },
      "source": [
        "<hr>\n",
        "<i>Exemplo prático</i>\n",
        "<h3>Aleatório não é bagunça</h3>\n",
        "<p>Temos diversas formas de gerar números aleatórios no NumPy, as funções Random sampling (numpy.random) são exemplos disso.\n",
        "Podemos gerar vetores e matrizes de diversos tamanhos e números de dimensões diferentes preenchidos com valores aleatórios ou não, e respeitando ou não regras impostas na geração dos valores.</p>\n",
        "<p>Na criação de modelos de redes neurais devemos em vários momentos gerar vetores ou matrizes de vão conter os pesos sinápticos. Existem alguns estudos na área que demonstram que certos padrões de incialização aleatória aumentam a eficiência dos modelos</p>\n",
        "<p>No exemplo abaixo vamor gerar um vetor de contendo 1000 numeros aleatórios, a média dos numeros contidos no vetor tem que ser próxima de 1 e o desvio padrão dos elementos deve ser em torno de 0.2, os valores devem obedecer à uma <a href=\"https://www.inf.ufsc.br/~andre.zibetti/probabilidade/normal.html\">distribuição normal</a></p>\n"
      ]
    },
    {
      "cell_type": "code",
      "metadata": {
        "scrolled": false,
        "id": "puzUFPRS6fN_",
        "colab_type": "code",
        "colab": {}
      },
      "source": [
        "#Criando um vetor de 1000 numeros aleatórios distribuidos em uma curva normal com 'média' de 1 e desvio padrão de 0.2\n",
        "media = 1\n",
        "devp = 0.2\n",
        "n = 1000\n",
        "pesos = np.random.normal(media,devp,n)\n",
        "#print(pesos)"
      ],
      "execution_count": 0,
      "outputs": []
    },
    {
      "cell_type": "markdown",
      "metadata": {
        "id": "9xHg9bRm6fOB",
        "colab_type": "text"
      },
      "source": [
        "\n",
        "\n",
        "<p>No histograma abaixo podemos verificar que o vetor gerado tem seus valores distribuidos em uma curva normal</p>"
      ]
    },
    {
      "cell_type": "code",
      "metadata": {
        "id": "WPOzVsB46fOC",
        "colab_type": "code",
        "outputId": "4fecab7b-5251-4dbd-c60a-744a5a71f13a",
        "colab": {
          "base_uri": "https://localhost:8080/",
          "height": 269
        }
      },
      "source": [
        "\n",
        "import matplotlib.pyplot as plt\n",
        "plt.hist(pesos, bins=100, density=1)\n",
        "plt.show()"
      ],
      "execution_count": 0,
      "outputs": [
        {
          "output_type": "display_data",
          "data": {
            "image/png": "[encoded data removed]",
            "text/plain": [
              "<Figure size 432x288 with 1 Axes>"
            ]
          },
          "metadata": {
            "tags": []
          }
        }
      ]
    },
    {
      "cell_type": "markdown",
      "metadata": {
        "id": "2te75w2b6fOF",
        "colab_type": "text"
      },
      "source": [
        "<p>Podemos conferir as outras características definidas no enunciado extraindo os valores do vetor</p>"
      ]
    },
    {
      "cell_type": "code",
      "metadata": {
        "scrolled": true,
        "id": "Ixc0a5EI6fOG",
        "colab_type": "code",
        "outputId": "7cb449c6-5fbb-474e-a5ca-4c926e3dd20d",
        "colab": {
          "base_uri": "https://localhost:8080/",
          "height": 170
        }
      },
      "source": [
        "#Extraindo estatísticas de um vetor\n",
        "#Mean\n",
        "print('Média')\n",
        "print(np.mean(pesos))\n",
        "print(pesos.mean())\n",
        "#Standard Dev.\n",
        "print(\"Desvio padrão\")\n",
        "print(np.std(pesos))\n",
        "print(pesos.std())\n",
        "#Variance\n",
        "print(\"Variância\")\n",
        "print(np.var(pesos))\n",
        "print(pesos.var())"
      ],
      "execution_count": 0,
      "outputs": [
        {
          "output_type": "stream",
          "text": [
            "Média\n",
            "1.010072760094558\n",
            "1.010072760094558\n",
            "Desvio padrão\n",
            "0.2021043341796958\n",
            "0.2021043341796958\n",
            "Variância\n",
            "0.040846161894218164\n",
            "0.040846161894218164\n"
          ],
          "name": "stdout"
        }
      ]
    },
    {
      "cell_type": "markdown",
      "metadata": {
        "id": "aW5Jrof16fOL",
        "colab_type": "text"
      },
      "source": [
        "<hr>"
      ]
    },
    {
      "cell_type": "markdown",
      "metadata": {
        "id": "F4v0T4Eu6fOM",
        "colab_type": "text"
      },
      "source": [
        "<i>Exemplo Prático</i>\n",
        "<h3>To bias or not to bias</h3>\n",
        "<p>Em muitos casos no processamento de entradas que serão submetidas à redes neurais temos a necessidade de inserir mais um valor no vetor, este valor é chamado de <i>Bias</i> (ou viés traduzindo ao pé da letra), a função desse valor é 'enviesar' o resultado evitando grandes distorções, aumentando assim o grau de liberdade na correção dos pesos</p>\n",
        "\n",
        "<p>Executar esta tarefa com o numpy é bastante simples, veja a seguir:</p>"
      ]
    },
    {
      "cell_type": "code",
      "metadata": {
        "id": "AtMQpACC6fON",
        "colab_type": "code",
        "outputId": "f5fc97ba-82fd-48c9-d4e6-346278cd3cb5",
        "colab": {
          "base_uri": "https://localhost:8080/",
          "height": 68
        }
      },
      "source": [
        "entrada = np.array([0.35, 2.36, 5.96, 4.21])\n",
        "print(entrada)\n",
        "#Bias valendo 1\n",
        "entrada_c_bias = np.append(entrada,1)\n",
        "print(entrada_c_bias)\n",
        "#Bias valendo 0\n",
        "entrada_c_bias = np.append(entrada,0)\n",
        "print(entrada_c_bias)"
      ],
      "execution_count": 0,
      "outputs": [
        {
          "output_type": "stream",
          "text": [
            "[0.35 2.36 5.96 4.21]\n",
            "[0.35 2.36 5.96 4.21 1.  ]\n",
            "[0.35 2.36 5.96 4.21 0.  ]\n"
          ],
          "name": "stdout"
        }
      ]
    },
    {
      "cell_type": "markdown",
      "metadata": {
        "id": "th7qkVoB6fOQ",
        "colab_type": "text"
      },
      "source": [
        "<hr>"
      ]
    },
    {
      "cell_type": "markdown",
      "metadata": {
        "id": "2O4JqW7l6fOR",
        "colab_type": "text"
      },
      "source": [
        "<h3>Operações com vetores unidimensionais</h3>"
      ]
    },
    {
      "cell_type": "code",
      "metadata": {
        "scrolled": true,
        "id": "tTvCOXSL6fOR",
        "colab_type": "code",
        "outputId": "936a63f2-ed65-4e16-9310-7229b5889d4f",
        "colab": {
          "base_uri": "https://localhost:8080/",
          "height": 34
        }
      },
      "source": [
        "vetor = np.random.random(5)\n",
        "print(vetor)"
      ],
      "execution_count": 0,
      "outputs": [
        {
          "output_type": "stream",
          "text": [
            "[0.7084296  0.39136859 0.97798676 0.06816864 0.19745249]\n"
          ],
          "name": "stdout"
        }
      ]
    },
    {
      "cell_type": "markdown",
      "metadata": {
        "id": "9qZNRYqB6fOU",
        "colab_type": "text"
      },
      "source": [
        "<p>Veja como é simples submeter todos os elementos de um vetor à umas mesma operação matemática:</p>"
      ]
    },
    {
      "cell_type": "code",
      "metadata": {
        "scrolled": true,
        "id": "BYIgSluY6fOU",
        "colab_type": "code",
        "outputId": "4139992d-72b9-4ef9-9495-8cfea781ba27",
        "colab": {
          "base_uri": "https://localhost:8080/",
          "height": 34
        }
      },
      "source": [
        "#podemos adicionar um valor a todos os elementos do vetor\n",
        "vetor = vetor+5\n",
        "print(vetor)"
      ],
      "execution_count": 0,
      "outputs": [
        {
          "output_type": "stream",
          "text": [
            "[5.7084296  5.39136859 5.97798676 5.06816864 5.19745249]\n"
          ],
          "name": "stdout"
        }
      ]
    },
    {
      "cell_type": "code",
      "metadata": {
        "scrolled": true,
        "id": "oybG77tl6fOY",
        "colab_type": "code",
        "outputId": "f46a0e5a-a317-48ce-d847-11bec30d684d",
        "colab": {
          "base_uri": "https://localhost:8080/",
          "height": 34
        }
      },
      "source": [
        "#podemos todos os elementos do vetor por uma valor\n",
        "print(vetor*10)"
      ],
      "execution_count": 0,
      "outputs": [
        {
          "output_type": "stream",
          "text": [
            "[57.084296   53.91368594 59.77986764 50.68168642 51.97452491]\n"
          ],
          "name": "stdout"
        }
      ]
    },
    {
      "cell_type": "code",
      "metadata": {
        "scrolled": true,
        "id": "Ry02bE6s6fOa",
        "colab_type": "code",
        "outputId": "0b68dcb2-7090-45a7-884e-0bac914569f3",
        "colab": {
          "base_uri": "https://localhost:8080/",
          "height": 34
        }
      },
      "source": [
        "#o mesmo acontece com a divisão\n",
        "print(vetor/3)"
      ],
      "execution_count": 0,
      "outputs": [
        {
          "output_type": "stream",
          "text": [
            "[1.90280987 1.79712286 1.99266225 1.68938955 1.73248416]\n"
          ],
          "name": "stdout"
        }
      ]
    },
    {
      "cell_type": "markdown",
      "metadata": {
        "id": "4qewAZeY6fOc",
        "colab_type": "text"
      },
      "source": [
        "<p>Existem ainda funções pré-definidas para calculos dos elementos do vetor:</p>"
      ]
    },
    {
      "cell_type": "code",
      "metadata": {
        "id": "-PtBOHM36fOd",
        "colab_type": "code",
        "outputId": "0186f075-d908-4561-dd13-fafcfa334a7e",
        "colab": {
          "base_uri": "https://localhost:8080/",
          "height": 34
        }
      },
      "source": [
        "#Retorna o somatório de todos os elementos do vetor\n",
        "vetor.sum()"
      ],
      "execution_count": 0,
      "outputs": [
        {
          "output_type": "execute_result",
          "data": {
            "text/plain": [
              "27.343406090909017"
            ]
          },
          "metadata": {
            "tags": []
          },
          "execution_count": 23
        }
      ]
    },
    {
      "cell_type": "code",
      "metadata": {
        "id": "Flznbjrs6fOf",
        "colab_type": "code",
        "outputId": "7e6d4763-d069-4da9-ab30-5aa176a30b20",
        "colab": {
          "base_uri": "https://localhost:8080/",
          "height": 34
        }
      },
      "source": [
        "#Retorna a média de todos os elementos do vetor\n",
        "vetor.mean()"
      ],
      "execution_count": 0,
      "outputs": [
        {
          "output_type": "execute_result",
          "data": {
            "text/plain": [
              "5.468681218181803"
            ]
          },
          "metadata": {
            "tags": []
          },
          "execution_count": 24
        }
      ]
    },
    {
      "cell_type": "code",
      "metadata": {
        "id": "ikLyiQKw6fOh",
        "colab_type": "code",
        "outputId": "cd6d73ff-d0ad-4ed2-e153-8a44bbaded39",
        "colab": {
          "base_uri": "https://localhost:8080/",
          "height": 34
        }
      },
      "source": [
        "#Retorna o valor máximo entre todos os elementos do vetor\n",
        "vetor.max()"
      ],
      "execution_count": 0,
      "outputs": [
        {
          "output_type": "execute_result",
          "data": {
            "text/plain": [
              "5.9779867639012325"
            ]
          },
          "metadata": {
            "tags": []
          },
          "execution_count": 25
        }
      ]
    },
    {
      "cell_type": "code",
      "metadata": {
        "id": "DgVZXpOT6fOk",
        "colab_type": "code",
        "outputId": "8f41f41e-4816-4425-bfa4-8593e1b2b10b",
        "colab": {
          "base_uri": "https://localhost:8080/",
          "height": 34
        }
      },
      "source": [
        "#Retorna o valor mínimo entre todos os elementos do vetor\n",
        "vetor.min()"
      ],
      "execution_count": 0,
      "outputs": [
        {
          "output_type": "execute_result",
          "data": {
            "text/plain": [
              "5.068168641831845"
            ]
          },
          "metadata": {
            "tags": []
          },
          "execution_count": 26
        }
      ]
    },
    {
      "cell_type": "code",
      "metadata": {
        "id": "YFyVxJlP6fOn",
        "colab_type": "code",
        "outputId": "484ed3f5-ddfb-48b1-eedc-9f964dd98df0",
        "colab": {
          "base_uri": "https://localhost:8080/",
          "height": 34
        }
      },
      "source": [
        "#Retorna o desvio padrão de todos os elementos do vetor\n",
        "vetor.std()"
      ],
      "execution_count": 0,
      "outputs": [
        {
          "output_type": "execute_result",
          "data": {
            "text/plain": [
              "0.3337136536911245"
            ]
          },
          "metadata": {
            "tags": []
          },
          "execution_count": 27
        }
      ]
    },
    {
      "cell_type": "code",
      "metadata": {
        "id": "Fu3b1BM06fOp",
        "colab_type": "code",
        "outputId": "157be261-444b-4d7a-f0d0-d3678edc4e5d",
        "colab": {
          "base_uri": "https://localhost:8080/",
          "height": 34
        }
      },
      "source": [
        "#Retorna a variância de todos os elementos do vetor\n",
        "vetor.var()"
      ],
      "execution_count": 0,
      "outputs": [
        {
          "output_type": "execute_result",
          "data": {
            "text/plain": [
              "0.11136480265987977"
            ]
          },
          "metadata": {
            "tags": []
          },
          "execution_count": 28
        }
      ]
    },
    {
      "cell_type": "markdown",
      "metadata": {
        "id": "7xRNGxGZ6fOs",
        "colab_type": "text"
      },
      "source": [
        "<p>Podemos submeter dois vetores de tamanhos idênticos à operações de forma parecida. Neste caso cada elemento de um vetor será submetido à operação matemática com o elemento do segundo vetor constante no mesmo índice</p>"
      ]
    },
    {
      "cell_type": "code",
      "metadata": {
        "id": "C7f-pKTG6fOt",
        "colab_type": "code",
        "outputId": "4d263ecc-d2a3-4396-86de-da7775a0bf6f",
        "colab": {
          "base_uri": "https://localhost:8080/",
          "height": 119
        }
      },
      "source": [
        "v1 = np.arange(5)\n",
        "v2 = np.array([4,3,2,1,10])\n",
        "print(v1)\n",
        "print(v2)\n",
        "print(v1+v2)\n",
        "print(v1*v2)\n",
        "print(v1/v2)\n",
        "print(v1-v2)\n"
      ],
      "execution_count": 0,
      "outputs": [
        {
          "output_type": "stream",
          "text": [
            "[0 1 2 3 4]\n",
            "[ 4  3  2  1 10]\n",
            "[ 4  4  4  4 14]\n",
            "[ 0  3  4  3 40]\n",
            "[0.         0.33333333 1.         3.         0.4       ]\n",
            "[-4 -2  0  2 -6]\n"
          ],
          "name": "stdout"
        }
      ]
    },
    {
      "cell_type": "markdown",
      "metadata": {
        "id": "IX8H0lre6fOv",
        "colab_type": "text"
      },
      "source": [
        "<hr>\n",
        "<i>Exemplo prático</i>\n",
        "<h3>The 'per' from 'perceptron'</h3>\n",
        "<p>Na construção de algoritmos de uma rede neural perceptron termos a seguinte situação:</p>\n",
        "<p>Existe um vetor que contém as entradas e existe um segundo vetor, de mesmo tamanho, que contém os pesos sinápticos de cada entrada, devemos multiplicar o valor de cada entrada pelo seu respectivo pesso sináptico, então é feito o somatório desse vetor resultante para no passo seguinte este montante ser submetido à função de ativação, que não vamos abordar agora.</p>\n",
        "<p>Precisamos criar um vetor com 4 entradas definidas no próprio código depois precisamos criar o vetor de pesos sináptico com o mesmo numero de elementos, vamos definir algumas regras na geração deste vetor, como vimos anteriormente, a seguir faremos a multiplicação e o somatório do vetor resultante</p>"
      ]
    },
    {
      "cell_type": "code",
      "metadata": {
        "id": "FzEMgtkr6fOw",
        "colab_type": "code",
        "outputId": "04445ad3-5299-4948-cb04-f9716a72deb6",
        "colab": {
          "base_uri": "https://localhost:8080/",
          "height": 85
        }
      },
      "source": [
        "entrada = np.array([4.65,1.69,0.23,2.42])\n",
        "pesos = np.random.normal(1,0.2,4)\n",
        "vetor_res = entrada * pesos\n",
        "resultado = vetor_res.sum()\n",
        "print(entrada)\n",
        "print(pesos)\n",
        "print(vetor_res)\n",
        "print(resultado)"
      ],
      "execution_count": 0,
      "outputs": [
        {
          "output_type": "stream",
          "text": [
            "[4.65 1.69 0.23 2.42]\n",
            "[0.81239102 1.09762762 1.11341179 1.16036936]\n",
            "[3.77761822 1.85499067 0.25608471 2.80809385]\n",
            "8.696787461883694\n"
          ],
          "name": "stdout"
        }
      ]
    },
    {
      "cell_type": "markdown",
      "metadata": {
        "id": "a6J9nwqt6fOy",
        "colab_type": "text"
      },
      "source": [
        "<hr>\n",
        "\n",
        "<i>Exemplo prático</i>\n",
        "<h3>The 'tron' from perceptron</h3>\n",
        "<p>Quando começamos a estudar <i>Machine Learning</i> é comun nos fazermos a pergunta \"... mas como a máquina aprende?\"</p>\n",
        "<p>Podemos dizer que o 'conhecimento' de um perceptron está guardado no seu vetor de pesos sinápticos, este vetor, que foi inicializado aleatoriamente, sofrerá correções no decorrer da aprendizagem</p>\n",
        "<p>Os valores do vetor de pesos serão corrigidos caso a rede não tenha apresentado o resultado esperado, o fator de correção será proporcional ao quanto a saída obtida se desviou da saída desejada</p>\n",
        "<p>Imagine o seguinte cenário:\n",
        "Após a iteração de um conjunto de entradas uma rede perceptron calculou-se o erro do processo chegando ao valor de +1.235 devemos corrigir o vetor de pesos incrementando o resultado apresentado em todos os seus elementos\n",
        "</p>\n"
      ]
    },
    {
      "cell_type": "code",
      "metadata": {
        "id": "hQP64vpa6fO0",
        "colab_type": "code",
        "outputId": "6a1fc6a6-09cc-4048-80f0-61f1d95a3724",
        "colab": {
          "base_uri": "https://localhost:8080/",
          "height": 68
        }
      },
      "source": [
        "#Gerando o vetor de pesos\n",
        "pesos = np.random.normal(1,0.2,4)\n",
        "print(\"Pesos antes da correção:\" , pesos)\n",
        "print()\n",
        "#Efetuando a correção\n",
        "erro = 1.235\n",
        "pesos = pesos+erro\n",
        "print(\"Pesos depois primeira da correção:\", pesos)"
      ],
      "execution_count": 0,
      "outputs": [
        {
          "output_type": "stream",
          "text": [
            "Pesos antes da correção: [0.67519281 1.43556279 0.9067602  1.0739686 ]\n",
            "\n",
            "Pesos depois primeira da correção: [1.91019281 2.67056279 2.1417602  2.3089686 ]\n"
          ],
          "name": "stdout"
        }
      ]
    },
    {
      "cell_type": "markdown",
      "metadata": {
        "id": "gCF7jPyl6fO2",
        "colab_type": "text"
      },
      "source": [
        "<p>Após a iteração do segundo conjunto de entradas, calculou-se o erro do processo chegando ao valor de -0.42 devemos corrigir o vetor de pesos 'incrementando' o resultado apresentado em todos os seus elementos\n",
        "</p>"
      ]
    },
    {
      "cell_type": "code",
      "metadata": {
        "id": "1W7uN97K6fO3",
        "colab_type": "code",
        "outputId": "f885c1ff-669f-4454-b235-1b4a3c9b5398",
        "colab": {
          "base_uri": "https://localhost:8080/",
          "height": 34
        }
      },
      "source": [
        "erro = -0.42\n",
        "pesos = pesos+erro\n",
        "print(\"Pesos depois da segunda correção:\", pesos)"
      ],
      "execution_count": 0,
      "outputs": [
        {
          "output_type": "stream",
          "text": [
            "Pesos depois da segunda correção: [1.49019281 2.25056279 1.7217602  1.8889686 ]\n"
          ],
          "name": "stdout"
        }
      ]
    },
    {
      "cell_type": "markdown",
      "metadata": {
        "id": "LsttixAN6fO8",
        "colab_type": "text"
      },
      "source": [
        "<hr>"
      ]
    },
    {
      "cell_type": "markdown",
      "metadata": {
        "id": "VVnmsSDE6fO8",
        "colab_type": "text"
      },
      "source": [
        "<h1> Array Bidimensional</h1>\n",
        "<p>Também chamados de matrizes arrays bidimensionais são bastante utilizados em diversos momentos no estudo de redes neurais artificiais</p>"
      ]
    },
    {
      "cell_type": "markdown",
      "metadata": {
        "id": "ysgjQZQI6fO9",
        "colab_type": "text"
      },
      "source": [
        "<h3>Criando Matrizes</h3>\n",
        "<p>Muitos dos métodos vistos anteriormente funcionam também para matrizes necessitando apenas de alguns ajustes de parâmetros</p>"
      ]
    },
    {
      "cell_type": "code",
      "metadata": {
        "id": "vNzV8Faq6fO-",
        "colab_type": "code",
        "outputId": "4f5560a9-20e0-4dfb-fce1-04bc22bf191d",
        "colab": {
          "base_uri": "https://localhost:8080/",
          "height": 34
        }
      },
      "source": [
        "#Criando uma matriz 2x5\n",
        "my_array = np.array([[5, 9, 3, 4, 5], [1, 9, 3, 4, 5]])\n",
        "print(my_array[1,0])"
      ],
      "execution_count": 0,
      "outputs": [
        {
          "output_type": "stream",
          "text": [
            "1\n"
          ],
          "name": "stdout"
        }
      ]
    },
    {
      "cell_type": "code",
      "metadata": {
        "id": "nHGMdWGD6fPB",
        "colab_type": "code",
        "outputId": "9955ce72-f34e-4850-853b-886755a0d9b7",
        "colab": {
          "base_uri": "https://localhost:8080/",
          "height": 51
        }
      },
      "source": [
        "#Criando uma matriz 2x2\n",
        "my_array = np.array([[4, 5], [6, 1]])\n",
        "print(my_array)"
      ],
      "execution_count": 0,
      "outputs": [
        {
          "output_type": "stream",
          "text": [
            "[[4 5]\n",
            " [6 1]]\n"
          ],
          "name": "stdout"
        }
      ]
    },
    {
      "cell_type": "code",
      "metadata": {
        "id": "TVjVjR-S6fPD",
        "colab_type": "code",
        "outputId": "cb871827-3342-4fe6-e90d-13a87d036d55",
        "colab": {
          "base_uri": "https://localhost:8080/",
          "height": 85
        }
      },
      "source": [
        "#Criando uma matriz 4x4 de valores aleatórios\n",
        "filtro = np.random.normal(1,0.2,[4,4])\n",
        "print(filtro)"
      ],
      "execution_count": 0,
      "outputs": [
        {
          "output_type": "stream",
          "text": [
            "[[0.74088521 0.58981109 0.73725255 0.9764389 ]\n",
            " [1.02259111 0.6784213  0.9363736  0.99803492]\n",
            " [0.79585708 0.96686689 0.96778808 0.94817573]\n",
            " [1.0763236  0.45752033 0.99730941 0.94137874]]\n"
          ],
          "name": "stdout"
        }
      ]
    },
    {
      "cell_type": "markdown",
      "metadata": {
        "id": "GcWx1Euc6fPH",
        "colab_type": "text"
      },
      "source": [
        "<hr>\n",
        "<i>Exemplo prático</i>\n",
        "<h3>The Filter Bank</h3>\n",
        "<p>Quando estudamos redes neurais convolucionais somos apresentados ao conceito de filtros, os filtors são semelhantes aos vetores de pesos vistos anteriormente, com a diferença que têm duas dimensões, ou seja são 'matrizes de pesos'. </p>\n",
        "<p>É normal termos diversos filtros, cada um com a finalidade de extrair um tipo de característica da entrada, a este conjuto chamamos de Banco de Filtros (<i>filter bank</i>)</p>\n",
        "<p>No exemplo abaixo vamos construir um banco com 3 filtros, os valores que preencherão cada filtro serão gerados aleatoriamente</p>\n"
      ]
    },
    {
      "cell_type": "code",
      "metadata": {
        "id": "i9J3ov376fPI",
        "colab_type": "code",
        "outputId": "a8e97935-efa1-4e4e-b6bf-5e675cc061b8",
        "colab": {
          "base_uri": "https://localhost:8080/",
          "height": 255
        }
      },
      "source": [
        "filtro1 = np.random.normal(1,0.2,[4,4])\n",
        "filtro2 = np.random.normal(1,0.2,[4,4])\n",
        "filtro3 = np.random.normal(1,0.2,[4,4])\n",
        "filter_bank = np.array([filtro1,filtro2,filtro3])\n",
        "print(filter_bank)"
      ],
      "execution_count": 0,
      "outputs": [
        {
          "output_type": "stream",
          "text": [
            "[[[1.35918441 1.08986738 1.32376157 0.92026927]\n",
            "  [1.41075256 0.71744027 1.09691083 0.99255309]\n",
            "  [0.99952796 1.06270828 0.85201071 1.10388294]\n",
            "  [0.93472225 0.95571708 0.71714784 0.91343891]]\n",
            "\n",
            " [[0.91879248 0.86439651 0.95944945 0.90774535]\n",
            "  [1.06474656 1.15736538 0.85870362 0.86160635]\n",
            "  [1.28888799 1.05042154 0.68042157 0.9968855 ]\n",
            "  [0.88121448 1.20819248 0.98557574 0.90181039]]\n",
            "\n",
            " [[1.14614643 0.93375596 1.21319074 1.272527  ]\n",
            "  [1.15502085 0.80801709 1.16088362 0.75025536]\n",
            "  [1.22952187 1.02514679 1.23148253 0.75988837]\n",
            "  [1.01337493 0.9293247  1.21755596 1.05664985]]]\n"
          ],
          "name": "stdout"
        }
      ]
    },
    {
      "cell_type": "markdown",
      "metadata": {
        "id": "qPD9hDou6fPQ",
        "colab_type": "text"
      },
      "source": [
        "<p>Perceba que o filter_bank é um vetor de 3 dimensões</p>\n",
        "<hr>"
      ]
    },
    {
      "cell_type": "markdown",
      "metadata": {
        "id": "zFG9yx9u6fPR",
        "colab_type": "text"
      },
      "source": [
        "<h3>Fatiando Matrizes</h3>"
      ]
    },
    {
      "cell_type": "code",
      "metadata": {
        "id": "QxAscCX16fPS",
        "colab_type": "code",
        "outputId": "d5c644a1-7a31-46aa-a552-e423dd3b3e94",
        "colab": {
          "base_uri": "https://localhost:8080/",
          "height": 51
        }
      },
      "source": [
        "print(my_array)"
      ],
      "execution_count": 0,
      "outputs": [
        {
          "output_type": "stream",
          "text": [
            "[[4 5]\n",
            " [6 1]]\n"
          ],
          "name": "stdout"
        }
      ]
    },
    {
      "cell_type": "code",
      "metadata": {
        "id": "2wcp8jOF6fPW",
        "colab_type": "code",
        "outputId": "ffb3f88d-d8b8-40cb-d307-7f21ffc119ef",
        "colab": {
          "base_uri": "https://localhost:8080/",
          "height": 34
        }
      },
      "source": [
        "#Selecionando a Coluna 2 da matriz\n",
        "my_array_column_2 = my_array[:,1]\n",
        "print(my_array_column_2)\n"
      ],
      "execution_count": 0,
      "outputs": [
        {
          "output_type": "stream",
          "text": [
            "[5 1]\n"
          ],
          "name": "stdout"
        }
      ]
    },
    {
      "cell_type": "code",
      "metadata": {
        "id": "wj7g9Bm16fPZ",
        "colab_type": "code",
        "outputId": "c724926c-eaf7-4fce-dcde-506be3af0edf",
        "colab": {
          "base_uri": "https://localhost:8080/",
          "height": 34
        }
      },
      "source": [
        "#Pagando somente a linha 2\n",
        "my_array_line_2 = my_array[1,:]\n",
        "print(my_array_line_2)"
      ],
      "execution_count": 0,
      "outputs": [
        {
          "output_type": "stream",
          "text": [
            "[6 1]\n"
          ],
          "name": "stdout"
        }
      ]
    },
    {
      "cell_type": "markdown",
      "metadata": {
        "id": "UUyfHZny6fPd",
        "colab_type": "text"
      },
      "source": [
        "<hr>\n",
        "<i>Exemplo não tão prático assim</i>\n",
        "<h3>What Does The Pandas Say?</h3>\n",
        "<p>Uma das tarefas mais importantes na execução de uma rede neural é o tratamento dos dados de entrada. Geralmente utilizamos outra blibioteca poderosa para este fim (Pandas) porém aqui, para fins didáticos, utilizaremos o NumPy para executar uma tarefa muito comum, trata-se da separação da classe alvo dos parâmetros dentro de um mesmo dataset</p>\n",
        "<p>Imagine a seguinte situação, você tem o dataset abaixo:</p>\n"
      ]
    },
    {
      "cell_type": "markdown",
      "metadata": {
        "id": "EjuB_WT96fPe",
        "colab_type": "text"
      },
      "source": [
        "<table>\n",
        "  <tr>\n",
        "    <th>Valor 1</th>\n",
        "    <th>Valor 2</th>\n",
        "    <th>Valor 3</th>\n",
        "    <th>Valor 4</th>\n",
        "    <th>Classe</th>\n",
        "  </tr>\n",
        "  <tr>\n",
        "    <td>1.5</td>\n",
        "    <td>2.6</td>\n",
        "    <td>5.9</td>\n",
        "    <td>0.5</td>\n",
        "    <td>0</td>\n",
        "  </tr>\n",
        "  <tr>\n",
        "    <td>2.5</td>\n",
        "    <td>3.6</td>\n",
        "    <td>9.8</td>\n",
        "    <td>7.5</td>\n",
        "    <td>1</td>\n",
        "  </tr>\n",
        "  <tr>\n",
        "    <td>2.6</td>\n",
        "    <td>9.8</td>\n",
        "    <td>8.5</td>\n",
        "    <td>9.9</td>\n",
        "    <td>1</td>\n",
        "  </tr>\n",
        "  <tr>\n",
        "    <td>0.6</td>\n",
        "    <td>2.3</td>\n",
        "    <td>1.5</td>\n",
        "    <td>0.2</td>\n",
        "    <td>0</td>\n",
        "  </tr>\n",
        "</table>"
      ]
    },
    {
      "cell_type": "code",
      "metadata": {
        "id": "dZxSvr4c6fPf",
        "colab_type": "code",
        "outputId": "da7aafc2-05e6-46a3-beb1-ac25e0e6541a",
        "colab": {
          "base_uri": "https://localhost:8080/",
          "height": 85
        }
      },
      "source": [
        "#Colocando os valores do Dataset apresentado em uma matriz NumPy\n",
        "dataset = np.array([[1.5, 2.6, 5.9, 0.5, 0],[2.5, 3.6, 9.8, 7.5, 1],[2.6, 9.8, 8.5, 9.9, 1],[0.6, 2.3, 1.5, 0.2, 0]])\n",
        "print(dataset)"
      ],
      "execution_count": 0,
      "outputs": [
        {
          "output_type": "stream",
          "text": [
            "[[1.5 2.6 5.9 0.5 0. ]\n",
            " [2.5 3.6 9.8 7.5 1. ]\n",
            " [2.6 9.8 8.5 9.9 1. ]\n",
            " [0.6 2.3 1.5 0.2 0. ]]\n"
          ],
          "name": "stdout"
        }
      ]
    },
    {
      "cell_type": "markdown",
      "metadata": {
        "id": "9jHdGzS96fPh",
        "colab_type": "text"
      },
      "source": [
        "<p>Conforme visto na tabela apresentada anteriormente, o último valor de cada linha é a classe dos elementos, os demais valores são parâmetros. Para que possamos submeter os parâmetros à um algoritmo e comparar os resultados obtidos com os resultados esperados (classes) precisamos 'fatiar' este dataset. Como que já aprendemos podemos fazer isto dessa forma:</p>"
      ]
    },
    {
      "cell_type": "code",
      "metadata": {
        "id": "xHqY_L8i6fPi",
        "colab_type": "code",
        "outputId": "c6e8eb69-ef06-4c38-d5bd-457ae42387db",
        "colab": {
          "base_uri": "https://localhost:8080/",
          "height": 136
        }
      },
      "source": [
        "#Selecionar todas as colunas, exceto a última\n",
        "param = dataset[:,:-1]\n",
        "#Selecionar apenas a última coluna\n",
        "classe = dataset[:,-1]\n",
        "print(\"Parâmetros: \\n\",param)\n",
        "print(\"Classes: \\n\",classe)"
      ],
      "execution_count": 0,
      "outputs": [
        {
          "output_type": "stream",
          "text": [
            "Parâmetros: \n",
            " [[1.5 2.6 5.9 0.5]\n",
            " [2.5 3.6 9.8 7.5]\n",
            " [2.6 9.8 8.5 9.9]\n",
            " [0.6 2.3 1.5 0.2]]\n",
            "Classes: \n",
            " [0. 1. 1. 0.]\n"
          ],
          "name": "stdout"
        }
      ]
    },
    {
      "cell_type": "markdown",
      "metadata": {
        "id": "Zct8XvSN6fPm",
        "colab_type": "text"
      },
      "source": [
        "<hr>"
      ]
    },
    {
      "cell_type": "markdown",
      "metadata": {
        "id": "qwOGasBa6fPn",
        "colab_type": "text"
      },
      "source": [
        "<h3>Operações com matrizes</h3>\n",
        "<p>Da mesma forma que fizemos operações com vetores, podemos fazê-las com matrizes, observe:</p>"
      ]
    },
    {
      "cell_type": "code",
      "metadata": {
        "id": "A1J0njsl6fPo",
        "colab_type": "code",
        "outputId": "6e811267-1274-45f6-d340-71f83461f3c3",
        "colab": {
          "base_uri": "https://localhost:8080/",
          "height": 578
        }
      },
      "source": [
        "a = np.array([[1.0, 2.0], [3.0, 4.0]])\n",
        "b = np.array([[5.0, 6.0], [7.0, 8.0]])\n",
        "sum = a + b # Soma\n",
        "difference = a - b # Subtração\n",
        "product = a * b # Multiplicação\n",
        "quotient = a / b # Divisão\n",
        "mod = b % a # Divisão\n",
        "\n",
        "print('a = \\n', + a)\n",
        "print('\\n')\n",
        "print('b = \\n', + b)\n",
        "print('\\n')\n",
        "print('Sum = \\n', + sum)\n",
        "print('\\n')\n",
        "print('Difference = \\n', + difference)\n",
        "print('\\n')\n",
        "print('Product = \\n', + product)\n",
        "print('\\n')\n",
        "print('Quotient = \\n', + quotient)\n",
        "print('\\n')\n",
        "print('Mod = \\n', + mod)"
      ],
      "execution_count": 0,
      "outputs": [
        {
          "output_type": "stream",
          "text": [
            "a = \n",
            " [[1. 2.]\n",
            " [3. 4.]]\n",
            "\n",
            "\n",
            "b = \n",
            " [[5. 6.]\n",
            " [7. 8.]]\n",
            "\n",
            "\n",
            "Sum = \n",
            " [[ 6.  8.]\n",
            " [10. 12.]]\n",
            "\n",
            "\n",
            "Difference = \n",
            " [[-4. -4.]\n",
            " [-4. -4.]]\n",
            "\n",
            "\n",
            "Product = \n",
            " [[ 5. 12.]\n",
            " [21. 32.]]\n",
            "\n",
            "\n",
            "Quotient = \n",
            " [[0.2        0.33333333]\n",
            " [0.42857143 0.5       ]]\n",
            "\n",
            "\n",
            "Mod = \n",
            " [[0. 0.]\n",
            " [1. 0.]]\n"
          ],
          "name": "stdout"
        }
      ]
    },
    {
      "cell_type": "markdown",
      "metadata": {
        "id": "_9GIK8Xi6fPr",
        "colab_type": "text"
      },
      "source": [
        "<p>Note que nas operações feitas, assim como quando estudamos vetores, cada elemento foi multiplicado/adicionado/subtraído.. do elemento que ocupa o mesmo índice que o seu na outra matriz, dessa forma na operação de multiplicação o que foi multiplicado foi um elemento pelo outro, e não uma matriz pela outra </p>\n",
        "<p>Quando precisamos do  produto de duas matrizes utilizamos o procedimento abaixo: </p>"
      ]
    },
    {
      "cell_type": "code",
      "metadata": {
        "id": "yJyL4pYO6fPr",
        "colab_type": "code",
        "outputId": "e5ccc885-2921-4ed1-a1d1-f6dde3446f03",
        "colab": {
          "base_uri": "https://localhost:8080/",
          "height": 119
        }
      },
      "source": [
        "#Multiplicação de matrizes\n",
        "matrix_produto = a.dot(b)\n",
        "print('Produto das matrizes a por b = \\n', + matrix_produto)\n",
        "matrix_produto = b.dot(a)\n",
        "print('Produto das matrizes b por a = \\n', + matrix_produto)"
      ],
      "execution_count": 0,
      "outputs": [
        {
          "output_type": "stream",
          "text": [
            "Produto das matrizes a por b = \n",
            " [[19. 22.]\n",
            " [43. 50.]]\n",
            "Produto das matrizes b por a = \n",
            " [[23. 34.]\n",
            " [31. 46.]]\n"
          ],
          "name": "stdout"
        }
      ]
    },
    {
      "cell_type": "markdown",
      "metadata": {
        "id": "F1S1jgqL6fPu",
        "colab_type": "text"
      },
      "source": [
        "<hr>\n",
        "<i>Exemplo prático</i>\n",
        "<h3>The Convolution will not be televised</h3>\n",
        "<p>Uma camada fundamental dentro de uma rede neural convolucional é, obviamente, a camada de convolução</p>\n",
        "<p>A convolução acontece da seguinte forma: uma matriz de entradas (por exemplo uma matriz 28x28) é submetida a um filtro (como aqueles que geramos a pouco) o filtro (<i>receptive filed</i>) é menor do que a matriz de entrada, para submeter toda a matriz ao filtro é necessario que o filtro se desloque um certo numero de passos (<i>stride</i>), antes de cada deslocamento é feita a multiplicação dos valores da matriz pelos valores dos filtros, o somatório da matriz resultante dessa multiplicação é adicionado como novo elemento de uma outra matriz que chamaremos de mapa de características (<i>feature maps</i>)</p>\n",
        "\n"
      ]
    },
    {
      "cell_type": "code",
      "metadata": {
        "id": "jGzKxyOP6fPv",
        "colab_type": "code",
        "outputId": "8ed20c0c-e933-42e6-d056-6b871238bf3f",
        "colab": {
          "base_uri": "https://localhost:8080/",
          "height": 1000
        }
      },
      "source": [
        "#Vamos definir algumas especificações:\n",
        "stride = 2 #tamanho do passo que o filtro vai dar\n",
        "#Gerando uma 'imagem' aleatória, uma matriz de inteiros entre 0 e 255\n",
        "foto = np.random.randint(0,255+1,(28, 28))\n",
        "#Gerando um filtro de tamanho 4x4\n",
        "filtro = np.random.normal(1,0.2,[4,4])\n",
        "foto"
      ],
      "execution_count": 0,
      "outputs": [
        {
          "output_type": "execute_result",
          "data": {
            "text/plain": [
              "array([[192, 174, 192,  26, 100, 254,  32, 105, 252, 251, 129,  18, 217,\n",
              "        204, 130, 249,  26, 168, 142, 112, 192, 124, 152, 186, 171,   6,\n",
              "         79,  68],\n",
              "       [112,  75, 124, 205, 163, 102,  37,  63, 187, 223,  59, 192,   7,\n",
              "         77, 140, 134,  63,  33, 108, 124, 139,  21,  82,  91, 173, 200,\n",
              "         18,  62],\n",
              "       [ 28,   9, 209,  68, 157,   0, 102,  11,  53, 216,  71,   0, 120,\n",
              "        125,  21,  17, 218, 159, 118, 112,  90, 181, 153, 237, 220, 157,\n",
              "         18,  36],\n",
              "       [134,  53, 242, 153, 117,  31, 252,  90,  95, 213, 139, 192,  80,\n",
              "        182,  46, 187, 152, 165, 241,  84, 223, 253,  16, 216,  43, 221,\n",
              "        105,  84],\n",
              "       [ 49, 255, 203,  81, 150,  36, 135, 127,  48,  43, 246,  98,  98,\n",
              "        251, 132,  47,  37, 140, 187, 162,  70, 167, 198, 148, 133, 174,\n",
              "         25, 171],\n",
              "       [ 62,  83, 219, 251, 228,  42,  63,  90, 172, 239,  61,  94,   2,\n",
              "          0, 171,  62,  19,   9,   4,  41, 140, 176, 166, 179, 136, 222,\n",
              "        218, 159],\n",
              "       [189, 133, 210, 213,  28,  52, 100, 128, 238, 204,  36, 135,  50,\n",
              "          5,  76, 205, 204, 113, 223,  15,  81,  23,   6, 225, 224, 227,\n",
              "         77,  35],\n",
              "       [150, 113, 207,  86, 222,  55,  31, 223, 244,  95, 151,  38, 199,\n",
              "         11,   0,  11, 229,  60, 205,  82, 105,  35,  55, 100, 164, 126,\n",
              "        234, 215],\n",
              "       [ 76,  10, 234, 124, 249, 116, 136, 154, 140, 126,  21, 129,  85,\n",
              "         20, 156, 102,  49, 138,  63,   7,  25, 156, 175, 127,  39, 199,\n",
              "         11,   3],\n",
              "       [182,  76, 101, 115,   2,  92, 138,  58, 144,  70,  84, 214,  54,\n",
              "        160, 187, 136, 153, 242, 189, 197,  65,  38, 249,  63,  95,  97,\n",
              "        228,  79],\n",
              "       [ 88, 231, 107, 110, 164, 111, 130,  23,  24, 193, 251,  39,  67,\n",
              "         27,  55, 151, 114, 179,  50, 100, 251,  78, 194,  81,  46, 101,\n",
              "         38, 229],\n",
              "       [ 50,  77, 111, 215,  43,  52,  71, 115, 145, 119, 161, 103, 190,\n",
              "        230,  27,  71,  76, 149, 112, 157, 195, 216, 107,   0, 113, 221,\n",
              "        157, 223],\n",
              "       [ 97,  13,  45,  70,  21, 102, 142, 154,  29,  84,  45, 246,  97,\n",
              "         93,  54,  30, 116, 198, 186,  58,  68, 240, 156, 134, 243, 160,\n",
              "        168, 252],\n",
              "       [158, 103, 135, 188,  85, 227, 118,  53,  23, 139, 107, 213, 208,\n",
              "         15, 237,  44,   6, 152, 105, 103, 164, 135,  14, 188,  16, 251,\n",
              "        126, 166],\n",
              "       [255,  21, 219,  49,  58,  12, 185,  15, 130,   6,  27, 116, 182,\n",
              "         28, 113, 100, 117, 158,  83, 134,  74, 250, 168,  65, 142,  98,\n",
              "         37,  70],\n",
              "       [203,  88, 172, 168,  91,   0, 124, 250,  99, 226,  13,  28, 132,\n",
              "        152, 129,  77, 137, 121, 236, 110,  98, 225, 247, 198, 137,  64,\n",
              "        251, 235],\n",
              "       [ 18,   5, 210, 218,  84,  97, 118, 158, 197, 172,   2, 177, 154,\n",
              "         19,  75,   4, 195,  94, 159,  94,  64, 118, 158, 188, 118, 121,\n",
              "         22,  90],\n",
              "       [167,  31, 191,  52, 153, 216, 208, 240, 214, 202, 173, 130, 105,\n",
              "        208,  96,  90,  41,  38,  62, 176, 156, 249, 239,  36, 108, 134,\n",
              "        221, 112],\n",
              "       [255,  22, 215, 106, 101,  51,   8, 248, 212,   8, 235, 252, 157,\n",
              "         31, 226,  36, 213,  89, 199, 163,  98,  17, 180, 229,  58,  42,\n",
              "        216, 137],\n",
              "       [135, 115, 189,  66, 120,  84, 122, 161, 224,  34, 242, 192, 238,\n",
              "        115, 140,  34, 108,  74,  99,  77,  25, 111, 187, 228, 112, 109,\n",
              "        250,  47],\n",
              "       [ 34, 230,  26,  54, 199, 154, 207, 251, 122,  24, 159,  33,  83,\n",
              "        111,  73, 157, 180, 149,  48, 227, 230, 176, 204, 112, 244, 169,\n",
              "        227, 131],\n",
              "       [241, 226,  20,  98,  75, 176,  35, 122,  25, 191, 168,  95, 201,\n",
              "        240,  20, 242,  40, 137, 122,   9,  66,  56, 173,  60, 147, 210,\n",
              "         87,  45],\n",
              "       [ 85, 210,  44, 232, 237, 134, 222,  24,  84, 252, 193, 182,  95,\n",
              "         80, 188,  78,  71, 122,   1, 180,  64,  13, 157, 239, 150, 234,\n",
              "        200, 111],\n",
              "       [210,  20, 212,  53, 208, 242, 250,   4,  96, 229, 121,  21,  31,\n",
              "         78,  63,  25,   3, 138,   7,  28, 204, 147, 129, 237,  29, 104,\n",
              "        128, 212],\n",
              "       [186, 238,  99, 166, 107, 211, 174, 195, 244, 101, 133,  86, 186,\n",
              "         58, 163, 202, 109, 136, 197,  95, 116,  97, 148, 251, 220, 231,\n",
              "        168,  61],\n",
              "       [178,  76,   5,  79, 177, 228, 227, 121, 138, 215, 102,  42,  38,\n",
              "         68,  14, 168,  34, 207, 228,  25,  32, 103, 184, 108,  44, 133,\n",
              "         67,  39],\n",
              "       [ 57, 228, 179, 170,  60, 240, 207,  93, 249, 242, 163,  99, 181,\n",
              "        196, 189, 117,   4,  58, 228, 182, 196, 239,  60,  34,   4,  82,\n",
              "         34, 188],\n",
              "       [153,  36, 135, 105, 154, 251, 100, 123, 105, 139,  15, 165, 101,\n",
              "         27,  68,  47,  68, 217, 164, 175,  60, 166,  58, 195,   2, 161,\n",
              "          1, 114]])"
            ]
          },
          "metadata": {
            "tags": []
          },
          "execution_count": 44
        }
      ]
    },
    {
      "cell_type": "code",
      "metadata": {
        "id": "lbIIutLn6fPw",
        "colab_type": "code",
        "outputId": "299c4fcc-6fe9-4630-9cad-1888cc5f5170",
        "colab": {
          "base_uri": "https://localhost:8080/",
          "height": 85
        }
      },
      "source": [
        "filtro"
      ],
      "execution_count": 0,
      "outputs": [
        {
          "output_type": "execute_result",
          "data": {
            "text/plain": [
              "array([[1.19781428, 0.65044498, 1.25512441, 0.88128871],\n",
              "       [0.92954316, 1.10120968, 0.97615882, 0.88562224],\n",
              "       [0.91516906, 0.88909699, 1.36286731, 0.71319889],\n",
              "       [0.65120551, 0.81815142, 1.19972039, 0.72021506]])"
            ]
          },
          "metadata": {
            "tags": []
          },
          "execution_count": 45
        }
      ]
    },
    {
      "cell_type": "markdown",
      "metadata": {
        "id": "x6zJTt7M6fPy",
        "colab_type": "text"
      },
      "source": [
        "<p> Para saber o tamanho do mapa de caracteristicas que será gerado pela operação utilizamos a seguitne fórmula:<br>\n",
        "    $$ (W−F+2P)/S+1)$$\n",
        "onde: <br>\n",
        "W: é o nomero de elementos no eixo da entrada<br>\n",
        "F: é o tamanho de cada eixo do filtro<br>\n",
        "P: é o numero de elementos (geralmente 0 ou 1) que adiciona-se às bordas da matriz, neste caso não utilizaremos <br>\n",
        "S: o tamanho do passo que o filtro vai dar<br>\n",
        "Note que se sua matriz não for quadrada você terá que fazer o mesmo calculo para cada eixo\n",
        "</p>"
      ]
    },
    {
      "cell_type": "code",
      "metadata": {
        "id": "WMlQbZ2O6fPy",
        "colab_type": "code",
        "outputId": "83d9b099-57f2-47d4-9ff9-214ebf9beaaa",
        "colab": {
          "base_uri": "https://localhost:8080/",
          "height": 34
        }
      },
      "source": [
        "w = 28\n",
        "f = 4\n",
        "p = 0\n",
        "s = 2\n",
        "tamanhomapa = int((w-f+2*p)/s+1)\n",
        "print(\"Nosso mapa de caracteristicas terá\", tamanhomapa, \"elementos em cada eixo\")"
      ],
      "execution_count": 0,
      "outputs": [
        {
          "output_type": "stream",
          "text": [
            "Nosso mapa de caracteristicas terá 13 elementos em cada eixo\n"
          ],
          "name": "stdout"
        }
      ]
    },
    {
      "cell_type": "code",
      "metadata": {
        "id": "NO9DKqBV6fP0",
        "colab_type": "code",
        "outputId": "f079306f-9e9d-4120-8966-2fc08a7cf01c",
        "colab": {
          "base_uri": "https://localhost:8080/",
          "height": 459
        }
      },
      "source": [
        "#Vamos gerar uma matriz vazia do tamanho que calculamos anteriormente\n",
        "fmap = np.empty([tamanhomapa,tamanhomapa], dtype = int)\n",
        "print(fmap)\n"
      ],
      "execution_count": 0,
      "outputs": [
        {
          "output_type": "stream",
          "text": [
            "[[55602176        0        0        0        0        0        0        0\n",
            "         0        0        0        0        0]\n",
            " [       0        0        0        0        0        0        0        0\n",
            "         0        0        0        0        0]\n",
            " [       0        0        0        0        0        0        0        0\n",
            "         0        0        0        0        0]\n",
            " [       0        0        0        0        0        0        0        0\n",
            "         0        0        0        0        0]\n",
            " [       0        0        0        0        0        0        0        0\n",
            "         0        0        0        0        0]\n",
            " [       0        0        0        0        0        0        0        0\n",
            "         0        0        0        0        0]\n",
            " [       0        0        0        0        0        0        0        0\n",
            "         0        0        0        0        0]\n",
            " [       0        0        0        0        0        0        0        0\n",
            "         0        0        0        0        0]\n",
            " [       0        0        0        0        0        0        0        0\n",
            "         0        0        0        0        0]\n",
            " [       0        0        0        0        0        0        0        0\n",
            "         0        0        0        0        0]\n",
            " [       0        0        0        0        0        0        0        0\n",
            "         0        0        0        0        0]\n",
            " [       0        0        0        0        0        0        0        0\n",
            "         0        0        0        0        0]\n",
            " [       0        0        0        0        0        0        0        0\n",
            "         0        0        0        0        0]]\n"
          ],
          "name": "stdout"
        }
      ]
    },
    {
      "cell_type": "markdown",
      "metadata": {
        "id": "XUb6TBbJ6fP4",
        "colab_type": "text"
      },
      "source": [
        "<h4>Convolucionando...</h4>\n",
        "<p>Nos passos anteriores criamos os elementos que utilizaremos para fazer a convolução, agora devemos projetar o algoritmos que a fará.<br>\n",
        "Para isso lançaremos mão de uma ferramenta presente nas linguagens de programação chamada laço de repetição, no nosso caso utilizaremos o <a href=\"https://www.w3schools.com/python/python_for_loops.asp\">for</a>      \n",
        "</p>"
      ]
    },
    {
      "cell_type": "code",
      "metadata": {
        "id": "gPS_xz5w6fP5",
        "colab_type": "code",
        "outputId": "e72282cc-d815-41cb-d29b-341ab49db938",
        "colab": {
          "base_uri": "https://localhost:8080/",
          "height": 255
        }
      },
      "source": [
        "#A quantidade de passos que nosso filtro vai dar é tamanho do featuremap, neste caso 13 em cada direção\n",
        "f = foto.shape[0]\n",
        "tamfiltro = filtro.shape[0]\n",
        "k=[0,0]\n",
        "for i in range(0,(f-tamfiltro+1),stride):\n",
        "    for j in range(0,(f-tamfiltro+1),stride):\n",
        "        #Neste momento selecionaremos a parte da entrada que será submetida ao filtro nesse passo\n",
        "        fatia = foto[i:i+tamfiltro,j:j+tamfiltro]\n",
        "        #fazendo a convolução\n",
        "        fmap[k[0],k[1]] = (fatia*filtro).sum()\n",
        "        k[1] += 1\n",
        "        #print(fmap[k[0]],\":(\")\n",
        "    k[1] = 0\n",
        "    k[0] += 1\n",
        "    \n",
        "\n",
        "print(\"Vualá: \\n\",fmap)    \n"
      ],
      "execution_count": 0,
      "outputs": [
        {
          "output_type": "stream",
          "text": [
            "Vualá: \n",
            " [[1994 2097 1532 1962 2168 1752 1774 1795 1892 2119 2126 2205 1607]\n",
            " [2074 2166 1561 1826 1857 1669 1529 1497 1826 2105 2470 2438 1958]\n",
            " [2365 2223 1570 2118 2036 1465 1157 1549 1685 1601 1714 2412 2361]\n",
            " [2176 1998 1710 2180 1861 1258 1415 1858 2087 1411 1504 1933 1954]\n",
            " [1847 1915 1650 1654 1894 1699 1593 1865 1823 1861 1917 1744 1630]\n",
            " [1613 1643 1554 1424 1766 2048 1549 1456 1792 2099 2143 1907 2329]\n",
            " [1918 1522 1611 1625 1359 1663 1588 1676 1925 2045 2284 2186 2318]\n",
            " [2102 1886 1885 2460 1742 1544 1631 1549 1858 2086 2405 2116 1828]\n",
            " [1980 2006 1981 2515 2515 2276 1741 1576 1840 1770 2210 2050 1868]\n",
            " [1924 1700 1951 1869 2243 2408 1949 1894 1868 1672 2150 2333 2179]\n",
            " [1785 2077 2517 1910 1976 1797 1734 1581 1334 1521 2122 2443 2402]\n",
            " [1845 2270 2701 2446 2119 1462 1475 1594 1550 1350 2156 2419 2060]\n",
            " [1958 2120 2530 2575 2157 1647 1800 1642 2094 2140 1910 1735 1439]]\n"
          ],
          "name": "stdout"
        }
      ]
    },
    {
      "cell_type": "markdown",
      "metadata": {
        "id": "KVJvlboN6fP6",
        "colab_type": "text"
      },
      "source": [
        "<hr>\n",
        "<i>Exemplo prático</i>\n",
        "<h3>The Pool Party</h3>\n",
        "<p>Além da camada de convolução, outra camada fundamental para uma rede neural convolucional é a camada de pooling. <br>\n",
        "A Função da camada de Pooling é reduzir o tamanho do mapa de características. No exemplo fizemos anteriormente uma imagem de duas dimensões foi submetida a um único filtro, na aplicação prática disso, são utilizados diversos filtros (como o filter bank que fizemos lá atrás) isso vai gerar um volume de dados muito grande que aumentará a cada convolução, muitos destes dados não são significativos, uma camada de pooling seleciona pequenas partes de uma matriz, nesta submatriz selecionada é escolhido ou calculado um valor que representará todo este conjunto, esse passo é repetido sucessivamente até que toda a matriz inicial tenha sido submetida à essa redução, gerando um mapa de características reduzido.\n",
        "Vamos ver abaixo como fazermos isso com o que aprendemos até aqui:</p>"
      ]
    },
    {
      "cell_type": "code",
      "metadata": {
        "id": "RIHjoDrJ6fP7",
        "colab_type": "code",
        "outputId": "2c90630c-a257-4c7b-a2d3-0b5f63e73d3e",
        "colab": {
          "base_uri": "https://localhost:8080/",
          "height": 238
        }
      },
      "source": [
        "#já temos o Mapa de Características gerado no exmplo anterior, utilizaremos ele como entrada no nosso pooling\n",
        "print(fmap)"
      ],
      "execution_count": 0,
      "outputs": [
        {
          "output_type": "stream",
          "text": [
            "[[1994 2097 1532 1962 2168 1752 1774 1795 1892 2119 2126 2205 1607]\n",
            " [2074 2166 1561 1826 1857 1669 1529 1497 1826 2105 2470 2438 1958]\n",
            " [2365 2223 1570 2118 2036 1465 1157 1549 1685 1601 1714 2412 2361]\n",
            " [2176 1998 1710 2180 1861 1258 1415 1858 2087 1411 1504 1933 1954]\n",
            " [1847 1915 1650 1654 1894 1699 1593 1865 1823 1861 1917 1744 1630]\n",
            " [1613 1643 1554 1424 1766 2048 1549 1456 1792 2099 2143 1907 2329]\n",
            " [1918 1522 1611 1625 1359 1663 1588 1676 1925 2045 2284 2186 2318]\n",
            " [2102 1886 1885 2460 1742 1544 1631 1549 1858 2086 2405 2116 1828]\n",
            " [1980 2006 1981 2515 2515 2276 1741 1576 1840 1770 2210 2050 1868]\n",
            " [1924 1700 1951 1869 2243 2408 1949 1894 1868 1672 2150 2333 2179]\n",
            " [1785 2077 2517 1910 1976 1797 1734 1581 1334 1521 2122 2443 2402]\n",
            " [1845 2270 2701 2446 2119 1462 1475 1594 1550 1350 2156 2419 2060]\n",
            " [1958 2120 2530 2575 2157 1647 1800 1642 2094 2140 1910 1735 1439]]\n"
          ],
          "name": "stdout"
        }
      ]
    },
    {
      "cell_type": "code",
      "metadata": {
        "id": "JHu_6fHg6fP9",
        "colab_type": "code",
        "outputId": "2e9690ce-a91f-4146-af53-1a5415373c33",
        "colab": {
          "base_uri": "https://localhost:8080/",
          "height": 238
        }
      },
      "source": [
        "#Vamos definir o tamanho da submatriz\n",
        "subm = 3\n",
        "#vamos definir o tamanho do passo\n",
        "poolstride = 2\n",
        "\n",
        "#A seguir, vamos criar uma matriz vazia que vair armazenar nosso mapa de características reduzido\n",
        "#Utilizaremos a mesma formula da convolução\n",
        "t = int((fmap.shape[0]-subm)/poolstride+1)\n",
        "print(\"Após o pooling teremos um mapa reduzido de \",t,\"x\",t)\n",
        "rfmap = np.empty([t,t], dtype = int)\n",
        "print(rfmap)"
      ],
      "execution_count": 0,
      "outputs": [
        {
          "output_type": "stream",
          "text": [
            "Após o pooling teremos um mapa reduzido de  6 x 6\n",
            "[[           30777504                 241                   0\n",
            "                    0 7091317972966309888 4189022085447885435]\n",
            " [8387236743448978466 8241919853483539744 3328542046682702194\n",
            "  2318287480226327605 3832053247677902389 3328823320680341548]\n",
            " [2318287480243104821 3832060944259231289 3328823320680407084\n",
            "  2318289679367023670 4120293519434001976 3328260370726985772]\n",
            " [2318284181691444278 3615880465563856433 7952276523001585708\n",
            "  7017778599883797104 3180149866771997044 2482730676477588258]\n",
            " [2462454642678785594 8241998945377940341 4189037482855260521\n",
            "  8245937480582061403 8245937481777176421 3199092244753293945]\n",
            " [8675445202132104482 7957695011165139568 6999205688337113715\n",
            "  7238537354954108012 7310875413622976105       6597069770621]]\n"
          ],
          "name": "stdout"
        }
      ]
    },
    {
      "cell_type": "markdown",
      "metadata": {
        "id": "rDmalxEV6fP-",
        "colab_type": "text"
      },
      "source": [
        "<p>Agora criaremos o mapa de característica reduzido, é importante frisar neste momento que existem algumas formas de escolher o valor que representará a área selecionada, podemos fazer uma média deles,  podemos pegar o valor máximo (o mais comum) entre outras formas menos convencionais, no passo a seguir vamos fazer esta operação selecionando o valor máximo de cada área da entrada, chamaremos 'criativamente' de: \n",
        "<h4>MaxPooling</h4></p>"
      ]
    },
    {
      "cell_type": "code",
      "metadata": {
        "id": "lhs3iQUb6fP_",
        "colab_type": "code",
        "outputId": "4a867c11-2524-4da9-9596-620d07b2a336",
        "colab": {
          "base_uri": "https://localhost:8080/",
          "height": 136
        }
      },
      "source": [
        "#A quantidade de passos que nosso filtro vai dar é tamanho do featuremap reduzido, neste caso 6 em cada direção\n",
        "f = fmap.shape[0]\n",
        "k = [0,0]\n",
        "for i in range(0,(f-subm+1),poolstride):\n",
        "    for j in range(0,(f-subm+1),poolstride):\n",
        "        #Neste momento selecionaremos a parte da entrada que será submetida ao pooling nesse passo\n",
        "        fatia = fmap[i:i+subm,j:j+subm]\n",
        "        \n",
        "        #Poolando\n",
        "        #--------------------------------------------\n",
        "        rfmap[k[0],k[1]] = ((fatia).max())\n",
        "        k[1] += 1\n",
        "        #--------------------------------------------\n",
        "    k[1] = 0\n",
        "    k[0] += 1\n",
        "        \n",
        "print(\"Vualá: \\n\",rfmap)    "
      ],
      "execution_count": 0,
      "outputs": [
        {
          "output_type": "stream",
          "text": [
            "Vualá: \n",
            " [[2365 2168 2168 1892 2470 2470]\n",
            " [2365 2180 2036 2087 2087 2412]\n",
            " [1918 1894 2048 1925 2284 2329]\n",
            " [2102 2515 2515 1925 2405 2405]\n",
            " [2517 2517 2515 1949 2210 2443]\n",
            " [2701 2701 2157 2094 2156 2443]]\n"
          ],
          "name": "stdout"
        }
      ]
    },
    {
      "cell_type": "markdown",
      "metadata": {
        "id": "IJqywv9F6fQG",
        "colab_type": "text"
      },
      "source": [
        "<h3>Acessando metadados de uma matriz</h3>"
      ]
    },
    {
      "cell_type": "code",
      "metadata": {
        "id": "x5bwRKAK6fQH",
        "colab_type": "code",
        "outputId": "946438ab-3432-4599-fe82-55d2a6381dfa",
        "colab": {
          "base_uri": "https://localhost:8080/",
          "height": 68
        }
      },
      "source": [
        "\n",
        "\n",
        "#Cria a Matriz\n",
        "matrix = np.array([[0,0],[0,1],[3,0]])\n",
        "print(matrix)\n"
      ],
      "execution_count": 0,
      "outputs": [
        {
          "output_type": "stream",
          "text": [
            "[[0 0]\n",
            " [0 1]\n",
            " [3 0]]\n"
          ],
          "name": "stdout"
        }
      ]
    },
    {
      "cell_type": "code",
      "metadata": {
        "id": "fkfdJnFG6fQL",
        "colab_type": "code",
        "outputId": "165b0317-7271-4bba-d0c6-b5da38425226",
        "colab": {
          "base_uri": "https://localhost:8080/",
          "height": 34
        }
      },
      "source": [
        "print(matrix.shape)"
      ],
      "execution_count": 0,
      "outputs": [
        {
          "output_type": "stream",
          "text": [
            "(3, 2)\n"
          ],
          "name": "stdout"
        }
      ]
    },
    {
      "cell_type": "code",
      "metadata": {
        "id": "W8wORHAm6fQP",
        "colab_type": "code",
        "outputId": "fe131a17-657c-4f60-9383-a175caabe7c5",
        "colab": {
          "base_uri": "https://localhost:8080/",
          "height": 34
        }
      },
      "source": [
        "print(matrix.size)"
      ],
      "execution_count": 0,
      "outputs": [
        {
          "output_type": "stream",
          "text": [
            "6\n"
          ],
          "name": "stdout"
        }
      ]
    },
    {
      "cell_type": "code",
      "metadata": {
        "id": "6hh9X7OV6fQV",
        "colab_type": "code",
        "outputId": "babb27d5-ed00-4535-8be8-c3d4f08ed99b",
        "colab": {
          "base_uri": "https://localhost:8080/",
          "height": 34
        }
      },
      "source": [
        "print(matrix.ndim)"
      ],
      "execution_count": 0,
      "outputs": [
        {
          "output_type": "stream",
          "text": [
            "2\n"
          ],
          "name": "stdout"
        }
      ]
    },
    {
      "cell_type": "code",
      "metadata": {
        "id": "XVaVSFNk6fQZ",
        "colab_type": "code",
        "outputId": "6aef2530-e917-41b2-a4fc-b2f575e6d2ff",
        "colab": {
          "base_uri": "https://localhost:8080/",
          "height": 34
        }
      },
      "source": [
        "print(np.max(matrix))"
      ],
      "execution_count": 0,
      "outputs": [
        {
          "output_type": "stream",
          "text": [
            "3\n"
          ],
          "name": "stdout"
        }
      ]
    },
    {
      "cell_type": "code",
      "metadata": {
        "id": "PbCEeiYv6fQc",
        "colab_type": "code",
        "outputId": "e21da780-7245-4458-e3b2-52f48974f6f7",
        "colab": {
          "base_uri": "https://localhost:8080/",
          "height": 34
        }
      },
      "source": [
        "print(np.min(matrix))"
      ],
      "execution_count": 0,
      "outputs": [
        {
          "output_type": "stream",
          "text": [
            "0\n"
          ],
          "name": "stdout"
        }
      ]
    },
    {
      "cell_type": "code",
      "metadata": {
        "id": "cObMVHLt6fQe",
        "colab_type": "code",
        "outputId": "64ac31b9-131f-4390-9a10-c22ee4eac6c1",
        "colab": {
          "base_uri": "https://localhost:8080/",
          "height": 34
        }
      },
      "source": [
        "print(np.max(matrix,axis=0))"
      ],
      "execution_count": 0,
      "outputs": [
        {
          "output_type": "stream",
          "text": [
            "[3 1]\n"
          ],
          "name": "stdout"
        }
      ]
    },
    {
      "cell_type": "code",
      "metadata": {
        "id": "TNw_djwN6fQf",
        "colab_type": "code",
        "outputId": "78ead10f-5b8c-4fa0-ffe6-ebb71b4d5ef9",
        "colab": {
          "base_uri": "https://localhost:8080/",
          "height": 34
        }
      },
      "source": [
        "print(np.max(matrix,axis=1))"
      ],
      "execution_count": 0,
      "outputs": [
        {
          "output_type": "stream",
          "text": [
            "[0 1 3]\n"
          ],
          "name": "stdout"
        }
      ]
    },
    {
      "cell_type": "markdown",
      "metadata": {
        "colab_type": "text",
        "id": "zWNo8mYx6vfD"
      },
      "source": [
        "\n",
        "<p>Chegamos ao final desse tutorial, nele foram expostas diversas funções da Biblioteca NumPy, existem ainda centenas de outras todas elas poderm ser conferidas na <a href=\"https://docs.scipy.org/doc/numpy/reference/\">Documentação</a> da biblioteca.<p>\n",
        "\n",
        " "
      ]
    }
  ]
}